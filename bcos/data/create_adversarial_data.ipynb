{
 "cells": [
  {
   "cell_type": "code",
   "execution_count": 2,
   "metadata": {},
   "outputs": [],
   "source": [
    "import os\n",
    "import numpy as np\n",
    "import matplotlib.pyplot as plt\n",
    "import torch\n",
    "import torchvision\n",
    "import torchvision.transforms as transforms\n",
    "import foolbox as fb\n",
    "from foolbox.attacks import LinfPGD"
   ]
  },
  {
   "cell_type": "code",
   "execution_count": 7,
   "metadata": {},
   "outputs": [
    {
     "name": "stdout",
     "output_type": "stream",
     "text": [
      "Files already downloaded and verified\n"
     ]
    },
    {
     "name": "stderr",
     "output_type": "stream",
     "text": [
      "/Users/rosameliacarioni/miniconda3/envs/b_cos/lib/python3.12/site-packages/torchvision/models/_utils.py:208: UserWarning: The parameter 'pretrained' is deprecated since 0.13 and may be removed in the future, please use 'weights' instead.\n",
      "  warnings.warn(\n",
      "/Users/rosameliacarioni/miniconda3/envs/b_cos/lib/python3.12/site-packages/torchvision/models/_utils.py:223: UserWarning: Arguments other than a weight enum or `None` for 'weights' are deprecated since 0.13 and may be removed in the future. The current behavior is equivalent to passing `weights=ResNet18_Weights.IMAGENET1K_V1`. You can also use `weights=ResNet18_Weights.DEFAULT` to get the most up-to-date weights.\n",
      "  warnings.warn(msg)\n"
     ]
    },
    {
     "name": "stdout",
     "output_type": "stream",
     "text": [
      "Processed 0/10000 images\n",
      "Processed 100/10000 images\n",
      "Processed 200/10000 images\n",
      "Processed 300/10000 images\n",
      "Processed 400/10000 images\n",
      "All images saved in ImageFolder format.\n"
     ]
    }
   ],
   "source": [
    "def save_image(img, path):\n",
    "    img = img.squeeze(0)  # remove batch dimension if present\n",
    "    img = img / 2 + 0.5  # unnormalize\n",
    "    npimg = img.numpy()\n",
    "    plt.imsave(path, np.transpose(npimg, (1, 2, 0)))\n",
    "\n",
    "# load CIFAR-10 dataset\n",
    "transform = transforms.Compose([transforms.ToTensor(), transforms.Normalize((0.5, 0.5, 0.5), (0.5, 0.5, 0.5))])\n",
    "testset = torchvision.datasets.CIFAR10(root='./data', train=False, download=True, transform=transform)\n",
    "testloader = torch.utils.data.DataLoader(testset, batch_size=1, shuffle=False)\n",
    "\n",
    "# create directories for ImageFolder structure\n",
    "output_dir = 'cifar10_adversarial_epsilon_02'\n",
    "original_dir = os.path.join(output_dir, 'original')\n",
    "adversarial_dir = os.path.join(output_dir, 'adversarial')\n",
    "\n",
    "os.makedirs(original_dir, exist_ok=True)\n",
    "os.makedirs(adversarial_dir, exist_ok=True)\n",
    "\n",
    "# create subdirectories for each class\n",
    "for class_idx in range(10):\n",
    "    os.makedirs(os.path.join(original_dir, str(class_idx)), exist_ok=True)\n",
    "    os.makedirs(os.path.join(adversarial_dir, str(class_idx)), exist_ok=True)\n",
    "\n",
    "# define a simple model (using pretrained ResNet18)\n",
    "model = torchvision.models.resnet18(pretrained=True)\n",
    "model.eval()\n",
    "\n",
    "# create Foolbox model\n",
    "fmodel = fb.PyTorchModel(model, bounds=(-1, 1))\n",
    "\n",
    "# define adversarial attack\n",
    "attack = LinfPGD()\n",
    "epsilons = [0.3] # TODO: play around with this for exaperimens \n",
    "\n",
    "# process and save each image\n",
    "counter = 0 \n",
    "for idx, (images, labels) in enumerate(testloader):\n",
    "    if counter ==500: # TODO: remove this, at the moment is only saving ~500 images \n",
    "        break \n",
    "    label = labels.item()  #get the class label\n",
    "    \n",
    "    # save original image\n",
    "    original_path = os.path.join(original_dir, str(label), f\"{idx}.png\")\n",
    "    save_image(images[0], original_path)\n",
    "    \n",
    "    # apply attack to generate adversarial image\n",
    "    adversarials = attack(fmodel, images, labels, epsilons=epsilons)\n",
    "    adversarial_image = adversarials[0]\n",
    "\n",
    "    # ensure adversarial_image is a tensor\n",
    "    if isinstance(adversarial_image, list):\n",
    "        adversarial_image = adversarial_image[0]\n",
    "    if isinstance(adversarial_image, torch.Tensor):\n",
    "        adversarial_image = adversarial_image.cpu()\n",
    "    \n",
    "    # save adversarial image\n",
    "    adversarial_path = os.path.join(adversarial_dir, str(label), f\"{idx}.png\")\n",
    "    save_image(adversarial_image, adversarial_path)\n",
    "\n",
    "    # print progress\n",
    "    if idx % 100 == 0:\n",
    "        print(f\"Processed {idx}/{len(testloader)} images\")\n",
    "    counter +=1\n",
    "\n",
    "print(idx,\" images saved in ImageFolder format\")"
   ]
  }
 ],
 "metadata": {
  "kernelspec": {
   "display_name": "b_cos",
   "language": "python",
   "name": "python3"
  },
  "language_info": {
   "codemirror_mode": {
    "name": "ipython",
    "version": 3
   },
   "file_extension": ".py",
   "mimetype": "text/x-python",
   "name": "python",
   "nbconvert_exporter": "python",
   "pygments_lexer": "ipython3",
   "version": "3.12.7"
  }
 },
 "nbformat": 4,
 "nbformat_minor": 2
}
